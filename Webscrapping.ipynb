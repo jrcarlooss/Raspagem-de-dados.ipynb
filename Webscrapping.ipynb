{
 "cells": [
  {
   "cell_type": "code",
   "execution_count": 5,
   "metadata": {},
   "outputs": [
    {
     "name": "stdout",
     "output_type": "stream",
     "text": [
      "Categorias Disponíveis:\n",
      "1. Motorcycles\n",
      "2. Home & Living\n",
      "3. Computers & Accessories\n",
      "4. Mom & Baby\n",
      "5. Food & Beverages\n",
      "6. Home Appliances\n",
      "7. Beauty\n",
      "8. Sports & Outdoors\n",
      "9. Women Clothes\n",
      "10. Baby & Kids Fashion\n",
      "11. Men Clothes\n",
      "12. Fashion Accessories\n",
      "13. Men Shoes\n",
      "14. Watches\n",
      "15. Women Shoes\n",
      "16. Automobiles\n",
      "17. Stationery\n",
      "18. Hobbies & Collections\n",
      "19. Mobile & Gadgets\n",
      "20. Pets\n",
      "21. Health\n",
      "22. Books & Magazines\n",
      "23. Men Bags\n",
      "24. Gaming & Consoles\n",
      "25. Women Bags\n",
      "26. Audio\n",
      "27. Cameras & Drones\n",
      "28. Travel & Luggage\n",
      "Dados raspados da categoria 'Mobile & Gadgets' foram salvos em 'dados_filtrados.csv'.\n"
     ]
    }
   ],
   "source": [
    "import pandas as pd\n",
    "import os\n",
    "\n",
    "# Obtenha o caminho completo para o arquivo CSV\n",
    "caminho_arquivo_csv = os.path.join('C:/Users/PC-CM-BONSUCESSO/Downloads', 'Shopee.csv')\n",
    "\n",
    "\n",
    "# Carregue o arquivo CSV em um DataFrame\n",
    "df = pd.read_csv(caminho_arquivo_csv)\n",
    "\n",
    "# Obtenha a lista de categorias únicas na coluna \"global_category1\"\n",
    "categorias_disponiveis = df['global_category1'].unique()\n",
    "\n",
    "# Exiba a lista de categorias disponíveis para o usuário\n",
    "print(\"Categorias Disponíveis:\")\n",
    "for i, categoria in enumerate(categorias_disponiveis, start=1):\n",
    "    print(f\"{i}. {categoria}\")\n",
    "\n",
    "# Solicite ao usuário que escolha uma categoria\n",
    "escolha = int(input(\"Escolha o número da categoria desejada: \")) - 1\n",
    "\n",
    "# Verifique se a escolha do usuário é válida\n",
    "if 0 <= escolha < len(categorias_disponiveis):\n",
    "    categoria_desejada = categorias_disponiveis[escolha]\n",
    "\n",
    "    # Limite a quantidade de dados raspados\n",
    "    limite = 10\n",
    "\n",
    "    # Filtre os dados com base na categoria e limite\n",
    "    dados_filtrados = df[df['global_category1'] == categoria_desejada].head(limite)\n",
    "\n",
    "    # Crie um novo DataFrame com as colunas desejadas\n",
    "    novos_dados = dados_filtrados[['price', 'title', 'image_link_3', 'product_short link']]\n",
    "\n",
    "    # Salve os dados filtrados em um novo arquivo CSV\n",
    "    novos_dados.to_csv('dados_filtrados.csv', index=False)\n",
    "\n",
    "    print(f\"Dados raspados da categoria '{categoria_desejada}' foram salvos em 'dados_filtrados.csv'.\")\n",
    "else:\n",
    "    print(\"Escolha inválida. Por favor, escolha um número de categoria válido.\")\n"
   ]
  }
 ],
 "metadata": {
  "kernelspec": {
   "display_name": "Python 3",
   "language": "python",
   "name": "python3"
  },
  "language_info": {
   "codemirror_mode": {
    "name": "ipython",
    "version": 3
   },
   "file_extension": ".py",
   "mimetype": "text/x-python",
   "name": "python",
   "nbconvert_exporter": "python",
   "pygments_lexer": "ipython3",
   "version": "3.11.6"
  }
 },
 "nbformat": 4,
 "nbformat_minor": 2
}
